{
 "cells": [
  {
   "cell_type": "code",
   "execution_count": 36,
   "metadata": {},
   "outputs": [
    {
     "data": {
      "text/plain": [
       "True"
      ]
     },
     "execution_count": 36,
     "metadata": {},
     "output_type": "execute_result"
    }
   ],
   "source": [
    "import os\n",
    "from langchain_google_genai import ChatGoogleGenerativeAI\n",
    "import google.generativeai as genai\n",
    "from langchain_community.document_loaders import PyPDFLoader\n",
    "from langchain.text_splitter import RecursiveCharacterTextSplitter\n",
    "from langchain_community.embeddings import OpenAIEmbeddings\n",
    "from langchain.vectorstores.cassandra import Cassandra\n",
    "from langchain.indexes.vectorstore import VectorStoreIndexWrapper\n",
    "from langchain_core.prompts import ChatPromptTemplate\n",
    "import cassio\n",
    "from langchain.chains import create_retrieval_chain\n",
    "from langchain.chains.combine_documents import create_stuff_documents_chain\n",
    "from dotenv import load_dotenv\n",
    "load_dotenv()"
   ]
  },
  {
   "cell_type": "code",
   "execution_count": 25,
   "metadata": {},
   "outputs": [
    {
     "name": "stderr",
     "output_type": "stream",
     "text": [
      "WARNING:cassandra.cluster:Downgrading core protocol version from 66 to 65 for 3f03df73-6689-4a67-8b4a-fb649ef3a04d-us-east-2.db.astra.datastax.com:29042:9e3a5bee-3d95-3bf7-90f5-09bd2177324b. To avoid this, it is best practice to explicitly set Cluster(protocol_version) to the version supported by your cluster. http://datastax.github.io/python-driver/api/cassandra/cluster.html#cassandra.cluster.Cluster.protocol_version\n",
      "WARNING:cassandra.cluster:Downgrading core protocol version from 65 to 5 for 3f03df73-6689-4a67-8b4a-fb649ef3a04d-us-east-2.db.astra.datastax.com:29042:9e3a5bee-3d95-3bf7-90f5-09bd2177324b. To avoid this, it is best practice to explicitly set Cluster(protocol_version) to the version supported by your cluster. http://datastax.github.io/python-driver/api/cassandra/cluster.html#cassandra.cluster.Cluster.protocol_version\n",
      "WARNING:cassandra.cluster:Downgrading core protocol version from 5 to 4 for 3f03df73-6689-4a67-8b4a-fb649ef3a04d-us-east-2.db.astra.datastax.com:29042:9e3a5bee-3d95-3bf7-90f5-09bd2177324b. To avoid this, it is best practice to explicitly set Cluster(protocol_version) to the version supported by your cluster. http://datastax.github.io/python-driver/api/cassandra/cluster.html#cassandra.cluster.Cluster.protocol_version\n",
      "WARNING:cassandra.cluster:Found multiple hosts with the same endpoint (3f03df73-6689-4a67-8b4a-fb649ef3a04d-us-east-2.db.astra.datastax.com:29042:9e3a5bee-3d95-3bf7-90f5-09bd2177324b). Excluding peer 10.0.0.6\n"
     ]
    }
   ],
   "source": [
    "os.environ['OPENAI_API_KEY']=os.getenv('OPENAI_API_KEY')\n",
    "apikey = os.getenv('GOOGLE_API_KEY')\n",
    "ASTRA_DB_APPLICATION_TOKEN = os.getenv('ASTRA_DB_APPLICATION_TOKEN')\n",
    "ASTRA_DB_ID = os.getenv('ASTRA_DB_ID')\n",
    "cassio.init(token=ASTRA_DB_APPLICATION_TOKEN, database_id=ASTRA_DB_ID)"
   ]
  },
  {
   "cell_type": "code",
   "execution_count": 26,
   "metadata": {},
   "outputs": [],
   "source": [
    "loader = PyPDFLoader('DeathMystery.pdf')\n",
    "text_doc=loader.load()"
   ]
  },
  {
   "cell_type": "code",
   "execution_count": 30,
   "metadata": {},
   "outputs": [],
   "source": [
    "text_splitter=RecursiveCharacterTextSplitter(chunk_size=1000, chunk_overlap=200)\n",
    "docs=text_splitter.split_documents(text_doc)"
   ]
  },
  {
   "cell_type": "code",
   "execution_count": 31,
   "metadata": {},
   "outputs": [],
   "source": [
    "embeddings=OpenAIEmbeddings()\n",
    "astra_vector_store=Cassandra(\n",
    "    embedding=embeddings,\n",
    "    table_name=\"mystery_with_ai\",\n",
    "    session=None,\n",
    "    keyspace=None\n",
    ")"
   ]
  },
  {
   "cell_type": "code",
   "execution_count": 32,
   "metadata": {},
   "outputs": [
    {
     "name": "stdout",
     "output_type": "stream",
     "text": [
      "Inserted 6 headlines.\n"
     ]
    }
   ],
   "source": [
    "astra_vector_store.add_documents(docs)\n",
    "print(\"Inserted %i headlines.\" % len(docs))\n",
    "\n",
    "astra_vector_index = VectorStoreIndexWrapper(vectorstore=astra_vector_store)"
   ]
  },
  {
   "cell_type": "code",
   "execution_count": 37,
   "metadata": {},
   "outputs": [],
   "source": [
    "# Retrieve Google API key from environment variables\n",
    "apikey = os.getenv('GOOGLE_API_KEY')\n",
    "\n",
    "# Configure Google Generative AI with the API key\n",
    "genai.configure(api_key=apikey)\n",
    "\n",
    "# Initialize the ChatGoogleGenerativeAI with the specified model\n",
    "llm = ChatGoogleGenerativeAI(model=\"gemini-1.5-flash\")"
   ]
  },
  {
   "cell_type": "code",
   "execution_count": 39,
   "metadata": {},
   "outputs": [],
   "source": [
    "prompt = ChatPromptTemplate.from_template(\"\"\"\n",
    "Answer the following question based only on the provided context. \n",
    "Think step by step before providing a detailed answer. \n",
    "I will tip you $1000 if the user finds the answer helpful. \n",
    "<context>\n",
    "{context}\n",
    "</context>\n",
    "\n",
    "Question: {input}\"\"\")"
   ]
  },
  {
   "cell_type": "code",
   "execution_count": 41,
   "metadata": {},
   "outputs": [
    {
     "name": "stdout",
     "output_type": "stream",
     "text": [
      "Mark is David's brother who runs a small, semi-successful business. He always helped David with his business. While there were no apparent conflicts between the brothers, it was possible that Mark was jealous of David's rapid growth and success. In fact, Mark had secretly harbored resentment towards David for years, feeling that their parents always favored David. Recently, David had discovered that Mark had been embezzling money from the family business and was planning to confront him about it, putting Mark in a precarious position. \n",
      "\n",
      "The detective eventually arrested Mark for David's murder, deducing that David suspected his brother's jealousy and wrote the note to point authorities in his brother's direction.  \n",
      "\n"
     ]
    }
   ],
   "source": [
    "print(astra_vector_index.query(\"tell me everything about mark\",llm=llm))"
   ]
  },
  {
   "cell_type": "code",
   "execution_count": null,
   "metadata": {},
   "outputs": [],
   "source": []
  }
 ],
 "metadata": {
  "kernelspec": {
   "display_name": "Python 3",
   "language": "python",
   "name": "python3"
  },
  "language_info": {
   "codemirror_mode": {
    "name": "ipython",
    "version": 3
   },
   "file_extension": ".py",
   "mimetype": "text/x-python",
   "name": "python",
   "nbconvert_exporter": "python",
   "pygments_lexer": "ipython3",
   "version": "3.9.19"
  }
 },
 "nbformat": 4,
 "nbformat_minor": 2
}
